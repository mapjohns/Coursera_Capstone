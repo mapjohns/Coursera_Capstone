{
 "cells": [
  {
   "cell_type": "code",
   "execution_count": 1,
   "metadata": {},
   "outputs": [],
   "source": [
    "import pandas as pd\n",
    "import numpy as np\n",
    "from bs4 import BeautifulSoup\n",
    "import requests\n",
    "import re\n",
    "import geocoder"
   ]
  },
  {
   "cell_type": "code",
   "execution_count": 2,
   "metadata": {},
   "outputs": [],
   "source": [
    "# URL imported via requests library and processed with BeautifulSoup\n",
    "url = 'https://en.wikipedia.org/wiki/List_of_postal_codes_of_Canada:_M'\n",
    "html_text = requests.get(url).text\n",
    "soup = BeautifulSoup(html_text, 'html.parser')"
   ]
  },
  {
   "cell_type": "code",
   "execution_count": 3,
   "metadata": {},
   "outputs": [],
   "source": [
    "# Below code finds the td elements in the table\n",
    "neighTable = soup.find('table')\n",
    "nt = neighTable.findAll('td')"
   ]
  },
  {
   "cell_type": "code",
   "execution_count": 4,
   "metadata": {},
   "outputs": [],
   "source": [
    "# For loop used to get only the text from the td and append it to a new list\n",
    "nt_text = []\n",
    "for sa in nt:\n",
    "    test = sa.get_text()\n",
    "    nt_text.append(test)"
   ]
  },
  {
   "cell_type": "code",
   "execution_count": 5,
   "metadata": {},
   "outputs": [
    {
     "data": {
      "text/plain": [
       "540"
      ]
     },
     "execution_count": 5,
     "metadata": {},
     "output_type": "execute_result"
    }
   ],
   "source": [
    "len(nt_text)"
   ]
  },
  {
   "cell_type": "code",
   "execution_count": 6,
   "metadata": {},
   "outputs": [],
   "source": [
    "# 3 different lists to hold the 3 column values. For loop uses index to specify which column the value belongs to\n",
    "Postal_Code = []\n",
    "Borough = []\n",
    "Neighborhood = []\n",
    "n = 0\n",
    "while n < len(nt_text):\n",
    "    Postal_Code.append(nt_text[n])\n",
    "    Borough.append(nt_text[n+1])\n",
    "    Neighborhood.append(nt_text[n+2])\n",
    "    n+=3   "
   ]
  },
  {
   "cell_type": "code",
   "execution_count": 7,
   "metadata": {},
   "outputs": [
    {
     "data": {
      "text/html": [
       "<div>\n",
       "<style scoped>\n",
       "    .dataframe tbody tr th:only-of-type {\n",
       "        vertical-align: middle;\n",
       "    }\n",
       "\n",
       "    .dataframe tbody tr th {\n",
       "        vertical-align: top;\n",
       "    }\n",
       "\n",
       "    .dataframe thead th {\n",
       "        text-align: right;\n",
       "    }\n",
       "</style>\n",
       "<table border=\"1\" class=\"dataframe\">\n",
       "  <thead>\n",
       "    <tr style=\"text-align: right;\">\n",
       "      <th></th>\n",
       "      <th>PostalCode</th>\n",
       "      <th>Borough</th>\n",
       "      <th>Neighborhood</th>\n",
       "    </tr>\n",
       "  </thead>\n",
       "  <tbody>\n",
       "    <tr>\n",
       "      <th>0</th>\n",
       "      <td>M1A\\n</td>\n",
       "      <td>Not assigned\\n</td>\n",
       "      <td>Not assigned\\n</td>\n",
       "    </tr>\n",
       "    <tr>\n",
       "      <th>1</th>\n",
       "      <td>M2A\\n</td>\n",
       "      <td>Not assigned\\n</td>\n",
       "      <td>Not assigned\\n</td>\n",
       "    </tr>\n",
       "    <tr>\n",
       "      <th>2</th>\n",
       "      <td>M3A\\n</td>\n",
       "      <td>North York\\n</td>\n",
       "      <td>Parkwoods\\n</td>\n",
       "    </tr>\n",
       "    <tr>\n",
       "      <th>3</th>\n",
       "      <td>M4A\\n</td>\n",
       "      <td>North York\\n</td>\n",
       "      <td>Victoria Village\\n</td>\n",
       "    </tr>\n",
       "    <tr>\n",
       "      <th>4</th>\n",
       "      <td>M5A\\n</td>\n",
       "      <td>Downtown Toronto\\n</td>\n",
       "      <td>Regent Park, Harbourfront\\n</td>\n",
       "    </tr>\n",
       "  </tbody>\n",
       "</table>\n",
       "</div>"
      ],
      "text/plain": [
       "  PostalCode             Borough                 Neighborhood\n",
       "0      M1A\\n      Not assigned\\n               Not assigned\\n\n",
       "1      M2A\\n      Not assigned\\n               Not assigned\\n\n",
       "2      M3A\\n        North York\\n                  Parkwoods\\n\n",
       "3      M4A\\n        North York\\n           Victoria Village\\n\n",
       "4      M5A\\n  Downtown Toronto\\n  Regent Park, Harbourfront\\n"
      ]
     },
     "execution_count": 7,
     "metadata": {},
     "output_type": "execute_result"
    }
   ],
   "source": [
    "# 3 lists added to a dictionary and converted to a dataframe\n",
    "Dictionary = {'PostalCode':Postal_Code, 'Borough':Borough, 'Neighborhood':Neighborhood}\n",
    "Canada = pd.DataFrame(Dictionary)\n",
    "Canada.head()"
   ]
  },
  {
   "cell_type": "code",
   "execution_count": 8,
   "metadata": {},
   "outputs": [
    {
     "data": {
      "text/html": [
       "<div>\n",
       "<style scoped>\n",
       "    .dataframe tbody tr th:only-of-type {\n",
       "        vertical-align: middle;\n",
       "    }\n",
       "\n",
       "    .dataframe tbody tr th {\n",
       "        vertical-align: top;\n",
       "    }\n",
       "\n",
       "    .dataframe thead th {\n",
       "        text-align: right;\n",
       "    }\n",
       "</style>\n",
       "<table border=\"1\" class=\"dataframe\">\n",
       "  <thead>\n",
       "    <tr style=\"text-align: right;\">\n",
       "      <th></th>\n",
       "      <th>PostalCode</th>\n",
       "      <th>Borough</th>\n",
       "      <th>Neighborhood</th>\n",
       "    </tr>\n",
       "  </thead>\n",
       "  <tbody>\n",
       "    <tr>\n",
       "      <th>0</th>\n",
       "      <td>M1A</td>\n",
       "      <td>Not assigned</td>\n",
       "      <td>Not assigned</td>\n",
       "    </tr>\n",
       "    <tr>\n",
       "      <th>1</th>\n",
       "      <td>M2A</td>\n",
       "      <td>Not assigned</td>\n",
       "      <td>Not assigned</td>\n",
       "    </tr>\n",
       "    <tr>\n",
       "      <th>2</th>\n",
       "      <td>M3A</td>\n",
       "      <td>North York</td>\n",
       "      <td>Parkwoods</td>\n",
       "    </tr>\n",
       "    <tr>\n",
       "      <th>3</th>\n",
       "      <td>M4A</td>\n",
       "      <td>North York</td>\n",
       "      <td>Victoria Village</td>\n",
       "    </tr>\n",
       "    <tr>\n",
       "      <th>4</th>\n",
       "      <td>M5A</td>\n",
       "      <td>Downtown Toronto</td>\n",
       "      <td>Regent Park, Harbourfront</td>\n",
       "    </tr>\n",
       "  </tbody>\n",
       "</table>\n",
       "</div>"
      ],
      "text/plain": [
       "  PostalCode           Borough               Neighborhood\n",
       "0        M1A      Not assigned               Not assigned\n",
       "1        M2A      Not assigned               Not assigned\n",
       "2        M3A        North York                  Parkwoods\n",
       "3        M4A        North York           Victoria Village\n",
       "4        M5A  Downtown Toronto  Regent Park, Harbourfront"
      ]
     },
     "execution_count": 8,
     "metadata": {},
     "output_type": "execute_result"
    }
   ],
   "source": [
    "# Used RegEx to remove the Newline values\n",
    "Canada['PostalCode'] = Canada.PostalCode.str.extract(r'(.*)\\n')\n",
    "Canada['Borough'] = Canada.Borough.str.extract(r'(.*)\\n')\n",
    "Canada['Neighborhood'] = Canada.Neighborhood.str.extract(r'(.*)\\n')\n",
    "Canada.head()"
   ]
  },
  {
   "cell_type": "code",
   "execution_count": 9,
   "metadata": {},
   "outputs": [
    {
     "data": {
      "text/plain": [
       "Not assigned        77\n",
       "North York          24\n",
       "Downtown Toronto    19\n",
       "Scarborough         17\n",
       "Etobicoke           12\n",
       "Central Toronto      9\n",
       "West Toronto         6\n",
       "East Toronto         5\n",
       "York                 5\n",
       "East York            5\n",
       "Mississauga          1\n",
       "Name: Borough, dtype: int64"
      ]
     },
     "execution_count": 9,
     "metadata": {},
     "output_type": "execute_result"
    }
   ],
   "source": [
    "# 77 Not assigned values that need to be removed from Borough\n",
    "Canada.Borough.value_counts()"
   ]
  },
  {
   "cell_type": "code",
   "execution_count": 10,
   "metadata": {},
   "outputs": [
    {
     "data": {
      "text/plain": [
       "North York          24\n",
       "Downtown Toronto    19\n",
       "Scarborough         17\n",
       "Etobicoke           12\n",
       "Central Toronto      9\n",
       "West Toronto         6\n",
       "York                 5\n",
       "East Toronto         5\n",
       "East York            5\n",
       "Mississauga          1\n",
       "Name: Borough, dtype: int64"
      ]
     },
     "execution_count": 10,
     "metadata": {},
     "output_type": "execute_result"
    }
   ],
   "source": [
    "# Created a new dataframe that has the Not assigned values removed from the dataframe\n",
    "Canada = Canada[Canada['Borough'] != 'Not assigned']\n",
    "Canada.Borough.value_counts()"
   ]
  },
  {
   "cell_type": "code",
   "execution_count": 11,
   "metadata": {},
   "outputs": [
    {
     "data": {
      "text/html": [
       "<div>\n",
       "<style scoped>\n",
       "    .dataframe tbody tr th:only-of-type {\n",
       "        vertical-align: middle;\n",
       "    }\n",
       "\n",
       "    .dataframe tbody tr th {\n",
       "        vertical-align: top;\n",
       "    }\n",
       "\n",
       "    .dataframe thead th {\n",
       "        text-align: right;\n",
       "    }\n",
       "</style>\n",
       "<table border=\"1\" class=\"dataframe\">\n",
       "  <thead>\n",
       "    <tr style=\"text-align: right;\">\n",
       "      <th></th>\n",
       "      <th>PostalCode</th>\n",
       "      <th>Borough</th>\n",
       "      <th>Neighborhood</th>\n",
       "    </tr>\n",
       "  </thead>\n",
       "  <tbody>\n",
       "  </tbody>\n",
       "</table>\n",
       "</div>"
      ],
      "text/plain": [
       "Empty DataFrame\n",
       "Columns: [PostalCode, Borough, Neighborhood]\n",
       "Index: []"
      ]
     },
     "execution_count": 11,
     "metadata": {},
     "output_type": "execute_result"
    }
   ],
   "source": [
    "# Checked Neighborhood column and found no Not assigned values\n",
    "Canada[Canada['Neighborhood'] == 'Not assigned']"
   ]
  },
  {
   "cell_type": "code",
   "execution_count": 12,
   "metadata": {},
   "outputs": [
    {
     "data": {
      "text/plain": [
       "(103, 3)"
      ]
     },
     "execution_count": 12,
     "metadata": {},
     "output_type": "execute_result"
    }
   ],
   "source": [
    "Canada.shape"
   ]
  },
  {
   "cell_type": "markdown",
   "metadata": {},
   "source": [
    "### Adding Latitude and Longitude"
   ]
  },
  {
   "cell_type": "code",
   "execution_count": 13,
   "metadata": {},
   "outputs": [
    {
     "data": {
      "text/html": [
       "<div>\n",
       "<style scoped>\n",
       "    .dataframe tbody tr th:only-of-type {\n",
       "        vertical-align: middle;\n",
       "    }\n",
       "\n",
       "    .dataframe tbody tr th {\n",
       "        vertical-align: top;\n",
       "    }\n",
       "\n",
       "    .dataframe thead th {\n",
       "        text-align: right;\n",
       "    }\n",
       "</style>\n",
       "<table border=\"1\" class=\"dataframe\">\n",
       "  <thead>\n",
       "    <tr style=\"text-align: right;\">\n",
       "      <th></th>\n",
       "      <th>PostalCode</th>\n",
       "      <th>Latitude</th>\n",
       "      <th>Longitude</th>\n",
       "    </tr>\n",
       "  </thead>\n",
       "  <tbody>\n",
       "    <tr>\n",
       "      <th>0</th>\n",
       "      <td>M1B</td>\n",
       "      <td>43.806686</td>\n",
       "      <td>-79.194353</td>\n",
       "    </tr>\n",
       "    <tr>\n",
       "      <th>1</th>\n",
       "      <td>M1C</td>\n",
       "      <td>43.784535</td>\n",
       "      <td>-79.160497</td>\n",
       "    </tr>\n",
       "    <tr>\n",
       "      <th>2</th>\n",
       "      <td>M1E</td>\n",
       "      <td>43.763573</td>\n",
       "      <td>-79.188711</td>\n",
       "    </tr>\n",
       "    <tr>\n",
       "      <th>3</th>\n",
       "      <td>M1G</td>\n",
       "      <td>43.770992</td>\n",
       "      <td>-79.216917</td>\n",
       "    </tr>\n",
       "    <tr>\n",
       "      <th>4</th>\n",
       "      <td>M1H</td>\n",
       "      <td>43.773136</td>\n",
       "      <td>-79.239476</td>\n",
       "    </tr>\n",
       "  </tbody>\n",
       "</table>\n",
       "</div>"
      ],
      "text/plain": [
       "  PostalCode   Latitude  Longitude\n",
       "0        M1B  43.806686 -79.194353\n",
       "1        M1C  43.784535 -79.160497\n",
       "2        M1E  43.763573 -79.188711\n",
       "3        M1G  43.770992 -79.216917\n",
       "4        M1H  43.773136 -79.239476"
      ]
     },
     "execution_count": 13,
     "metadata": {},
     "output_type": "execute_result"
    }
   ],
   "source": [
    "# Import Latitude and Longitude data and rename Postal Code column\n",
    "latlon = pd.read_csv(\"https://cocl.us/Geospatial_data\")\n",
    "latlon.rename(columns={'Postal Code':'PostalCode'}, inplace=True)\n",
    "latlon.head()"
   ]
  },
  {
   "cell_type": "code",
   "execution_count": 14,
   "metadata": {},
   "outputs": [
    {
     "data": {
      "text/html": [
       "<div>\n",
       "<style scoped>\n",
       "    .dataframe tbody tr th:only-of-type {\n",
       "        vertical-align: middle;\n",
       "    }\n",
       "\n",
       "    .dataframe tbody tr th {\n",
       "        vertical-align: top;\n",
       "    }\n",
       "\n",
       "    .dataframe thead th {\n",
       "        text-align: right;\n",
       "    }\n",
       "</style>\n",
       "<table border=\"1\" class=\"dataframe\">\n",
       "  <thead>\n",
       "    <tr style=\"text-align: right;\">\n",
       "      <th></th>\n",
       "      <th>PostalCode</th>\n",
       "      <th>Borough</th>\n",
       "      <th>Neighborhood</th>\n",
       "      <th>Latitude</th>\n",
       "      <th>Longitude</th>\n",
       "    </tr>\n",
       "  </thead>\n",
       "  <tbody>\n",
       "    <tr>\n",
       "      <th>0</th>\n",
       "      <td>M3A</td>\n",
       "      <td>North York</td>\n",
       "      <td>Parkwoods</td>\n",
       "      <td>43.753259</td>\n",
       "      <td>-79.329656</td>\n",
       "    </tr>\n",
       "    <tr>\n",
       "      <th>1</th>\n",
       "      <td>M4A</td>\n",
       "      <td>North York</td>\n",
       "      <td>Victoria Village</td>\n",
       "      <td>43.725882</td>\n",
       "      <td>-79.315572</td>\n",
       "    </tr>\n",
       "    <tr>\n",
       "      <th>2</th>\n",
       "      <td>M5A</td>\n",
       "      <td>Downtown Toronto</td>\n",
       "      <td>Regent Park, Harbourfront</td>\n",
       "      <td>43.654260</td>\n",
       "      <td>-79.360636</td>\n",
       "    </tr>\n",
       "    <tr>\n",
       "      <th>3</th>\n",
       "      <td>M6A</td>\n",
       "      <td>North York</td>\n",
       "      <td>Lawrence Manor, Lawrence Heights</td>\n",
       "      <td>43.718518</td>\n",
       "      <td>-79.464763</td>\n",
       "    </tr>\n",
       "    <tr>\n",
       "      <th>4</th>\n",
       "      <td>M7A</td>\n",
       "      <td>Downtown Toronto</td>\n",
       "      <td>Queen's Park, Ontario Provincial Government</td>\n",
       "      <td>43.662301</td>\n",
       "      <td>-79.389494</td>\n",
       "    </tr>\n",
       "  </tbody>\n",
       "</table>\n",
       "</div>"
      ],
      "text/plain": [
       "  PostalCode           Borough                                 Neighborhood  \\\n",
       "0        M3A        North York                                    Parkwoods   \n",
       "1        M4A        North York                             Victoria Village   \n",
       "2        M5A  Downtown Toronto                    Regent Park, Harbourfront   \n",
       "3        M6A        North York             Lawrence Manor, Lawrence Heights   \n",
       "4        M7A  Downtown Toronto  Queen's Park, Ontario Provincial Government   \n",
       "\n",
       "    Latitude  Longitude  \n",
       "0  43.753259 -79.329656  \n",
       "1  43.725882 -79.315572  \n",
       "2  43.654260 -79.360636  \n",
       "3  43.718518 -79.464763  \n",
       "4  43.662301 -79.389494  "
      ]
     },
     "execution_count": 14,
     "metadata": {},
     "output_type": "execute_result"
    }
   ],
   "source": [
    "# Joined new data onto our original dataframe\n",
    "CAN = pd.merge(Canada, latlon, on='PostalCode', how='left')\n",
    "CAN.head()"
   ]
  },
  {
   "cell_type": "code",
   "execution_count": 15,
   "metadata": {},
   "outputs": [
    {
     "data": {
      "text/plain": [
       "(103, 5)"
      ]
     },
     "execution_count": 15,
     "metadata": {},
     "output_type": "execute_result"
    }
   ],
   "source": [
    "# Amount of rows stayed the same, 2 extra columns added\n",
    "CAN.shape"
   ]
  },
  {
   "cell_type": "markdown",
   "metadata": {},
   "source": [
    "### Explore and Cluster"
   ]
  },
  {
   "cell_type": "code",
   "execution_count": 16,
   "metadata": {},
   "outputs": [],
   "source": [
    "from pandas.io.json import json_normalize # tranform JSON file into a pandas dataframe\n",
    "from geopy.geocoders import Nominatim\n",
    "# Matplotlib and associated plotting modules\n",
    "import matplotlib.cm as cm\n",
    "import matplotlib.colors as colors\n",
    "\n",
    "# import k-means from clustering stage\n",
    "from sklearn.cluster import KMeans\n",
    "\n",
    "#!conda install -c conda-forge folium=0.5.0 --yes # uncomment this line if you haven't completed the Foursquare API lab\n",
    "import folium # map rendering library"
   ]
  },
  {
   "cell_type": "code",
   "execution_count": 17,
   "metadata": {},
   "outputs": [
    {
     "data": {
      "text/plain": [
       "North York          24\n",
       "Downtown Toronto    19\n",
       "Scarborough         17\n",
       "Etobicoke           12\n",
       "Central Toronto      9\n",
       "West Toronto         6\n",
       "York                 5\n",
       "East Toronto         5\n",
       "East York            5\n",
       "Mississauga          1\n",
       "Name: Borough, dtype: int64"
      ]
     },
     "execution_count": 17,
     "metadata": {},
     "output_type": "execute_result"
    }
   ],
   "source": [
    "CAN['Borough'].value_counts()"
   ]
  },
  {
   "cell_type": "code",
   "execution_count": 18,
   "metadata": {},
   "outputs": [
    {
     "data": {
      "text/plain": [
       "39"
      ]
     },
     "execution_count": 18,
     "metadata": {},
     "output_type": "execute_result"
    }
   ],
   "source": [
    "# Work with the Boroughs that only contain Toronto. Use RegEx to match any value containing Toronto\n",
    "Toronto = CAN.copy()\n",
    "Toronto['Borough'] = Toronto['Borough'].str.extract(r'.*?(.*?Toronto).*?')\n",
    "# 39 neighborhoods in Toronto boroughs\n",
    "Toronto['Borough'].value_counts().sum()"
   ]
  },
  {
   "cell_type": "code",
   "execution_count": 19,
   "metadata": {},
   "outputs": [
    {
     "data": {
      "text/plain": [
       "0                   64\n",
       "Downtown Toronto    19\n",
       "Central Toronto      9\n",
       "West Toronto         6\n",
       "East Toronto         5\n",
       "Name: Borough, dtype: int64"
      ]
     },
     "execution_count": 19,
     "metadata": {},
     "output_type": "execute_result"
    }
   ],
   "source": [
    "# Filling the Null values to be removed.\n",
    "Toronto['Borough'].fillna('0', inplace=True)\n",
    "Toronto['Borough'].value_counts()"
   ]
  },
  {
   "cell_type": "code",
   "execution_count": 20,
   "metadata": {},
   "outputs": [
    {
     "data": {
      "text/plain": [
       "Downtown Toronto    19\n",
       "Central Toronto      9\n",
       "West Toronto         6\n",
       "East Toronto         5\n",
       "Name: Borough, dtype: int64"
      ]
     },
     "execution_count": 20,
     "metadata": {},
     "output_type": "execute_result"
    }
   ],
   "source": [
    "# Filter out the 0 for borough\n",
    "TBorough = Toronto[Toronto['Borough'] != '0'].reset_index(drop=True)\n",
    "TBorough['Borough'].value_counts()"
   ]
  },
  {
   "cell_type": "code",
   "execution_count": 21,
   "metadata": {},
   "outputs": [
    {
     "data": {
      "text/html": [
       "<div>\n",
       "<style scoped>\n",
       "    .dataframe tbody tr th:only-of-type {\n",
       "        vertical-align: middle;\n",
       "    }\n",
       "\n",
       "    .dataframe tbody tr th {\n",
       "        vertical-align: top;\n",
       "    }\n",
       "\n",
       "    .dataframe thead th {\n",
       "        text-align: right;\n",
       "    }\n",
       "</style>\n",
       "<table border=\"1\" class=\"dataframe\">\n",
       "  <thead>\n",
       "    <tr style=\"text-align: right;\">\n",
       "      <th></th>\n",
       "      <th>PostalCode</th>\n",
       "      <th>Borough</th>\n",
       "      <th>Neighborhood</th>\n",
       "      <th>Latitude</th>\n",
       "      <th>Longitude</th>\n",
       "    </tr>\n",
       "  </thead>\n",
       "  <tbody>\n",
       "    <tr>\n",
       "      <th>0</th>\n",
       "      <td>M5A</td>\n",
       "      <td>Downtown Toronto</td>\n",
       "      <td>Regent Park, Harbourfront</td>\n",
       "      <td>43.654260</td>\n",
       "      <td>-79.360636</td>\n",
       "    </tr>\n",
       "    <tr>\n",
       "      <th>1</th>\n",
       "      <td>M7A</td>\n",
       "      <td>Downtown Toronto</td>\n",
       "      <td>Queen's Park, Ontario Provincial Government</td>\n",
       "      <td>43.662301</td>\n",
       "      <td>-79.389494</td>\n",
       "    </tr>\n",
       "    <tr>\n",
       "      <th>2</th>\n",
       "      <td>M5B</td>\n",
       "      <td>Downtown Toronto</td>\n",
       "      <td>Garden District, Ryerson</td>\n",
       "      <td>43.657162</td>\n",
       "      <td>-79.378937</td>\n",
       "    </tr>\n",
       "    <tr>\n",
       "      <th>3</th>\n",
       "      <td>M5C</td>\n",
       "      <td>Downtown Toronto</td>\n",
       "      <td>St. James Town</td>\n",
       "      <td>43.651494</td>\n",
       "      <td>-79.375418</td>\n",
       "    </tr>\n",
       "    <tr>\n",
       "      <th>4</th>\n",
       "      <td>M4E</td>\n",
       "      <td>East Toronto</td>\n",
       "      <td>The Beaches</td>\n",
       "      <td>43.676357</td>\n",
       "      <td>-79.293031</td>\n",
       "    </tr>\n",
       "  </tbody>\n",
       "</table>\n",
       "</div>"
      ],
      "text/plain": [
       "  PostalCode           Borough                                 Neighborhood  \\\n",
       "0        M5A  Downtown Toronto                    Regent Park, Harbourfront   \n",
       "1        M7A  Downtown Toronto  Queen's Park, Ontario Provincial Government   \n",
       "2        M5B  Downtown Toronto                     Garden District, Ryerson   \n",
       "3        M5C  Downtown Toronto                               St. James Town   \n",
       "4        M4E      East Toronto                                  The Beaches   \n",
       "\n",
       "    Latitude  Longitude  \n",
       "0  43.654260 -79.360636  \n",
       "1  43.662301 -79.389494  \n",
       "2  43.657162 -79.378937  \n",
       "3  43.651494 -79.375418  \n",
       "4  43.676357 -79.293031  "
      ]
     },
     "execution_count": 21,
     "metadata": {},
     "output_type": "execute_result"
    }
   ],
   "source": [
    "TBorough.head()"
   ]
  },
  {
   "cell_type": "code",
   "execution_count": 22,
   "metadata": {},
   "outputs": [
    {
     "name": "stdout",
     "output_type": "stream",
     "text": [
      "The geograpical coordinate of Toronto are 43.6534817, -79.3839347.\n"
     ]
    }
   ],
   "source": [
    "# Pull the Latitude and Longitude Values of Toronto\n",
    "address = 'Toronto, Canada'\n",
    "geolocator = Nominatim(user_agent=\"ny_explorer\")\n",
    "location = geolocator.geocode(address)\n",
    "latitude = location.latitude\n",
    "longitude = location.longitude\n",
    "print('The geograpical coordinate of Toronto are {}, {}.'.format(latitude, longitude))"
   ]
  },
  {
   "cell_type": "code",
   "execution_count": 23,
   "metadata": {
    "scrolled": false
   },
   "outputs": [
    {
     "data": {
      "text/html": [
       "<div style=\"width:100%;\"><div style=\"position:relative;width:100%;height:0;padding-bottom:60%;\"><span style=\"color:#565656\">Make this Notebook Trusted to load map: File -> Trust Notebook</span><iframe src=\"about:blank\" style=\"position:absolute;width:100%;height:100%;left:0;top:0;border:none !important;\" data-html=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 onload=\"this.contentDocument.open();this.contentDocument.write(atob(this.getAttribute('data-html')));this.contentDocument.close();\" allowfullscreen webkitallowfullscreen mozallowfullscreen></iframe></div></div>"
      ],
      "text/plain": [
       "<folium.folium.Map at 0x1c1348f8>"
      ]
     },
     "execution_count": 23,
     "metadata": {},
     "output_type": "execute_result"
    }
   ],
   "source": [
    "# create map of Toronto using latitude and longitude values\n",
    "map_toronto = folium.Map(location=[latitude, longitude], zoom_start=11)\n",
    "\n",
    "# add markers to map\n",
    "for lat, lng, borough, neighborhood, postal_c in zip(TBorough['Latitude'], TBorough['Longitude'], TBorough['Borough'], TBorough['Neighborhood'], TBorough['PostalCode']):\n",
    "    label = '{}, {}, {}'.format(postal_c, neighborhood, borough)\n",
    "    label = folium.Popup(label, parse_html=True)\n",
    "    folium.CircleMarker(\n",
    "        [lat, lng],\n",
    "        radius=5,\n",
    "        popup=label,\n",
    "        color='blue',\n",
    "        fill=True,\n",
    "        fill_color='#3186cc',\n",
    "        fill_opacity=0.7,\n",
    "        parse_html=False).add_to(map_toronto)  \n",
    "    \n",
    "map_toronto"
   ]
  },
  {
   "cell_type": "code",
   "execution_count": 24,
   "metadata": {},
   "outputs": [
    {
     "data": {
      "text/plain": [
       "array([3, 3, 3, 3, 0, 3, 3, 1, 3, 1])"
      ]
     },
     "execution_count": 24,
     "metadata": {},
     "output_type": "execute_result"
    }
   ],
   "source": [
    "# set number of clusters\n",
    "kclusters = 4\n",
    "\n",
    "toronto_clustering = TBorough.drop(['Neighborhood','PostalCode','Borough'], axis=1)\n",
    "\n",
    "# run k-means clustering\n",
    "kmeans = KMeans(n_clusters=kclusters, random_state=0).fit(toronto_clustering)\n",
    "\n",
    "# Cluster labels for each row in the dataframe\n",
    "kmeans.labels_[0:10] "
   ]
  },
  {
   "cell_type": "code",
   "execution_count": 25,
   "metadata": {},
   "outputs": [
    {
     "data": {
      "text/html": [
       "<div>\n",
       "<style scoped>\n",
       "    .dataframe tbody tr th:only-of-type {\n",
       "        vertical-align: middle;\n",
       "    }\n",
       "\n",
       "    .dataframe tbody tr th {\n",
       "        vertical-align: top;\n",
       "    }\n",
       "\n",
       "    .dataframe thead th {\n",
       "        text-align: right;\n",
       "    }\n",
       "</style>\n",
       "<table border=\"1\" class=\"dataframe\">\n",
       "  <thead>\n",
       "    <tr style=\"text-align: right;\">\n",
       "      <th></th>\n",
       "      <th>Cluster Labels</th>\n",
       "      <th>PostalCode</th>\n",
       "      <th>Borough</th>\n",
       "      <th>Neighborhood</th>\n",
       "      <th>Latitude</th>\n",
       "      <th>Longitude</th>\n",
       "    </tr>\n",
       "  </thead>\n",
       "  <tbody>\n",
       "    <tr>\n",
       "      <th>0</th>\n",
       "      <td>3</td>\n",
       "      <td>M5A</td>\n",
       "      <td>Downtown Toronto</td>\n",
       "      <td>Regent Park, Harbourfront</td>\n",
       "      <td>43.654260</td>\n",
       "      <td>-79.360636</td>\n",
       "    </tr>\n",
       "    <tr>\n",
       "      <th>1</th>\n",
       "      <td>3</td>\n",
       "      <td>M7A</td>\n",
       "      <td>Downtown Toronto</td>\n",
       "      <td>Queen's Park, Ontario Provincial Government</td>\n",
       "      <td>43.662301</td>\n",
       "      <td>-79.389494</td>\n",
       "    </tr>\n",
       "    <tr>\n",
       "      <th>2</th>\n",
       "      <td>3</td>\n",
       "      <td>M5B</td>\n",
       "      <td>Downtown Toronto</td>\n",
       "      <td>Garden District, Ryerson</td>\n",
       "      <td>43.657162</td>\n",
       "      <td>-79.378937</td>\n",
       "    </tr>\n",
       "    <tr>\n",
       "      <th>3</th>\n",
       "      <td>3</td>\n",
       "      <td>M5C</td>\n",
       "      <td>Downtown Toronto</td>\n",
       "      <td>St. James Town</td>\n",
       "      <td>43.651494</td>\n",
       "      <td>-79.375418</td>\n",
       "    </tr>\n",
       "    <tr>\n",
       "      <th>4</th>\n",
       "      <td>0</td>\n",
       "      <td>M4E</td>\n",
       "      <td>East Toronto</td>\n",
       "      <td>The Beaches</td>\n",
       "      <td>43.676357</td>\n",
       "      <td>-79.293031</td>\n",
       "    </tr>\n",
       "  </tbody>\n",
       "</table>\n",
       "</div>"
      ],
      "text/plain": [
       "   Cluster Labels PostalCode           Borough  \\\n",
       "0               3        M5A  Downtown Toronto   \n",
       "1               3        M7A  Downtown Toronto   \n",
       "2               3        M5B  Downtown Toronto   \n",
       "3               3        M5C  Downtown Toronto   \n",
       "4               0        M4E      East Toronto   \n",
       "\n",
       "                                  Neighborhood   Latitude  Longitude  \n",
       "0                    Regent Park, Harbourfront  43.654260 -79.360636  \n",
       "1  Queen's Park, Ontario Provincial Government  43.662301 -79.389494  \n",
       "2                     Garden District, Ryerson  43.657162 -79.378937  \n",
       "3                               St. James Town  43.651494 -79.375418  \n",
       "4                                  The Beaches  43.676357 -79.293031  "
      ]
     },
     "execution_count": 25,
     "metadata": {},
     "output_type": "execute_result"
    }
   ],
   "source": [
    "# add clustering labels to dataframe\n",
    "TBorough.insert(0, 'Cluster Labels', kmeans.labels_)\n",
    "TBorough.head()"
   ]
  },
  {
   "cell_type": "code",
   "execution_count": 26,
   "metadata": {},
   "outputs": [
    {
     "data": {
      "text/html": [
       "<div style=\"width:100%;\"><div style=\"position:relative;width:100%;height:0;padding-bottom:60%;\"><span style=\"color:#565656\">Make this Notebook Trusted to load map: File -> Trust Notebook</span><iframe src=\"about:blank\" style=\"position:absolute;width:100%;height:100%;left:0;top:0;border:none !important;\" data-html=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 onload=\"this.contentDocument.open();this.contentDocument.write(atob(this.getAttribute('data-html')));this.contentDocument.close();\" allowfullscreen webkitallowfullscreen mozallowfullscreen></iframe></div></div>"
      ],
      "text/plain": [
       "<folium.folium.Map at 0x1c1a8a00>"
      ]
     },
     "execution_count": 26,
     "metadata": {},
     "output_type": "execute_result"
    }
   ],
   "source": [
    "# create map\n",
    "map_clusters = folium.Map(location=[latitude, longitude], zoom_start=11)\n",
    "\n",
    "# set color scheme for the clusters\n",
    "x = np.arange(kclusters)\n",
    "ys = [i + x + (i*x)**2 for i in range(kclusters)]\n",
    "colors_array = cm.rainbow(np.linspace(0, 1, len(ys)))\n",
    "rainbow = [colors.rgb2hex(i) for i in colors_array]\n",
    "\n",
    "# add markers to the map\n",
    "markers_colors = []\n",
    "for lat, lon, poi, cluster in zip(TBorough['Latitude'], TBorough['Longitude'], TBorough['Neighborhood'], TBorough['Cluster Labels']):\n",
    "    label = folium.Popup(str(poi) + ' Cluster ' + str(cluster), parse_html=True)\n",
    "    folium.CircleMarker(\n",
    "        [lat, lon],\n",
    "        radius=5,\n",
    "        popup=label,\n",
    "        color=rainbow[cluster-1],\n",
    "        fill=True,\n",
    "        fill_color=rainbow[cluster-1],\n",
    "        fill_opacity=0.7).add_to(map_clusters)\n",
    "       \n",
    "map_clusters"
   ]
  },
  {
   "cell_type": "code",
   "execution_count": null,
   "metadata": {},
   "outputs": [],
   "source": []
  }
 ],
 "metadata": {
  "kernelspec": {
   "display_name": "Python 3",
   "language": "python",
   "name": "python3"
  },
  "language_info": {
   "codemirror_mode": {
    "name": "ipython",
    "version": 3
   },
   "file_extension": ".py",
   "mimetype": "text/x-python",
   "name": "python",
   "nbconvert_exporter": "python",
   "pygments_lexer": "ipython3",
   "version": "3.8.3"
  }
 },
 "nbformat": 4,
 "nbformat_minor": 4
}
